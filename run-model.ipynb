{
 "cells": [
  {
   "cell_type": "code",
   "execution_count": 2,
   "metadata": {},
   "outputs": [],
   "source": [
    "import re\n",
    "import os\n",
    "import sys\n",
    "import numpy as np\n",
    "import pandas as pd\n",
    "from scipy import stats\n",
    "\n",
    "from sklearn.ensemble import GradientBoostingClassifier\n",
    "from sklearn.linear_model import LogisticRegression\n",
    "from tools.rnn import RecurrentNeuralNetwork\n",
    "\n",
    "from sklearn.metrics import recall_score, precision_score, f1_score"
   ]
  },
  {
   "cell_type": "code",
   "execution_count": 3,
   "metadata": {},
   "outputs": [],
   "source": [
    "def get_dataset(filepath):\n",
    "    def get_pair(df):\n",
    "        ys = np.array(df['Target'])\n",
    "        df = df.drop('Target', axis=1)\n",
    "        xs = np.array(df)\n",
    "        return xs, ys\n",
    "    tr_df, te_df = pd.read_pickle(filepath)\n",
    "    tr_xs, tr_ys = get_pair(tr_df)\n",
    "    te_xs, te_ys = get_pair(te_df)\n",
    "    return tr_xs, tr_ys, te_xs, te_ys\n",
    "\n",
    "def get_scores_map(model, opt, term):\n",
    "    dir_path = os.path.join('data', '%s', 'time%d') % (opt, term)\n",
    "    sample_n = sum(1 for v in os.listdir(dir_path) if re.compile(r'data\\d{3}').match(v))\n",
    "    scores_map = {'recall': [], 'precision': [], 'f1-score': []}\n",
    "    for i in range(sample_n):\n",
    "        filepath = os.path.join(dir_path, 'data%03d') % (i+1)\n",
    "        tr_xs, tr_ys, te_xs, te_ys = get_dataset(filepath)\n",
    "        model.fit(tr_xs, tr_ys)\n",
    "        preds = model.predict(te_xs)\n",
    "        if all(preds == 0):\n",
    "            scores_map['precision'].append(0)\n",
    "            scores_map['f1-score'].append(0)\n",
    "        else:\n",
    "            scores_map['precision'].append(precision_score(te_ys, preds))\n",
    "            scores_map['f1-score'].append(f1_score(te_ys, preds))\n",
    "        scores_map['recall'].append(recall_score(te_ys, preds))\n",
    "        sys.stdout.write('\\r%s' % filepath)\n",
    "    return scores_map\n",
    "\n",
    "def get_lr(opt, term):\n",
    "    model = LogisticRegression(\n",
    "        solver='newton-cg',\n",
    "        random_state=0\n",
    "    )\n",
    "    return model, 'lr'\n",
    "\n",
    "def get_gb(opt, term):\n",
    "    model = GradientBoostingClassifier(\n",
    "        n_iter_no_change=10,\n",
    "        warm_start=True,\n",
    "        random_state=0\n",
    "    )\n",
    "    return model, 'gb'\n",
    "\n",
    "def get_nn(opt, term):\n",
    "    model = RecurrentNeuralNetwork(opt, term)\n",
    "    return model, 'nn'"
   ]
  },
  {
   "cell_type": "code",
   "execution_count": 1,
   "metadata": {},
   "outputs": [
    {
     "ename": "NameError",
     "evalue": "name 'get_lr' is not defined",
     "output_type": "error",
     "traceback": [
      "\u001b[1;31m---------------------------------------------------------------------------\u001b[0m",
      "\u001b[1;31mNameError\u001b[0m                                 Traceback (most recent call last)",
      "\u001b[1;32m<ipython-input-1-8ab5fd3eb9ed>\u001b[0m in \u001b[0;36m<module>\u001b[1;34m\u001b[0m\n\u001b[0;32m      1\u001b[0m \u001b[0mtotal_score_map\u001b[0m \u001b[1;33m=\u001b[0m \u001b[1;33m{\u001b[0m\u001b[1;33m}\u001b[0m\u001b[1;33m\u001b[0m\u001b[1;33m\u001b[0m\u001b[0m\n\u001b[1;32m----> 2\u001b[1;33m \u001b[1;32mfor\u001b[0m \u001b[0mget_model\u001b[0m \u001b[1;32min\u001b[0m \u001b[1;33m[\u001b[0m\u001b[0mget_lr\u001b[0m\u001b[1;33m,\u001b[0m \u001b[0mget_gb\u001b[0m\u001b[1;33m,\u001b[0m \u001b[0mget_nn\u001b[0m\u001b[1;33m]\u001b[0m\u001b[1;33m:\u001b[0m\u001b[1;33m\u001b[0m\u001b[1;33m\u001b[0m\u001b[0m\n\u001b[0m\u001b[0;32m      3\u001b[0m     \u001b[0mprint\u001b[0m\u001b[1;33m(\u001b[0m\u001b[0mget_model\u001b[0m\u001b[1;33m)\u001b[0m\u001b[1;33m\u001b[0m\u001b[1;33m\u001b[0m\u001b[0m\n\u001b[0;32m      4\u001b[0m     \u001b[1;32mfor\u001b[0m \u001b[0mopt\u001b[0m \u001b[1;32min\u001b[0m \u001b[1;33m[\u001b[0m\u001b[1;34m'base'\u001b[0m\u001b[1;33m,\u001b[0m \u001b[1;34m'ours'\u001b[0m\u001b[1;33m,\u001b[0m \u001b[1;34m'text'\u001b[0m\u001b[1;33m]\u001b[0m\u001b[1;33m:\u001b[0m\u001b[1;33m\u001b[0m\u001b[1;33m\u001b[0m\u001b[0m\n\u001b[0;32m      5\u001b[0m         \u001b[0mprint\u001b[0m\u001b[1;33m(\u001b[0m\u001b[0mopt\u001b[0m\u001b[1;33m)\u001b[0m\u001b[1;33m\u001b[0m\u001b[1;33m\u001b[0m\u001b[0m\n",
      "\u001b[1;31mNameError\u001b[0m: name 'get_lr' is not defined"
     ]
    }
   ],
   "source": [
    "total_score_map = {}\n",
    "for get_model in [get_lr, get_gb, get_nn]:\n",
    "    print(get_model)\n",
    "    for opt in ['base', 'ours', 'text']:\n",
    "        print(opt)\n",
    "        for term in [1, 2, 3, 4]:\n",
    "            model, name = get_model(opt, term)\n",
    "            scores_map = get_scores_map(model, opt, term)\n",
    "            print(\"\\r\", {\n",
    "                k: \"%0.04f(%0.04f)\" % (np.mean(scores_map[k]), np.std(scores_map[k]))\n",
    "                for k in scores_map\n",
    "            })\n",
    "            total_score_map[name, opt, term] = scores_map\n",
    "            \n"
   ]
  },
  {
   "cell_type": "code",
   "execution_count": null,
   "metadata": {},
   "outputs": [],
   "source": [
    "pd.to_pickle(os.path.join('data', 'total_score_map'))"
   ]
  }
 ],
 "metadata": {
  "kernelspec": {
   "display_name": "Python 3",
   "language": "python",
   "name": "python3"
  },
  "language_info": {
   "codemirror_mode": {
    "name": "ipython",
    "version": 3
   },
   "file_extension": ".py",
   "mimetype": "text/x-python",
   "name": "python",
   "nbconvert_exporter": "python",
   "pygments_lexer": "ipython3",
   "version": "3.6.8"
  }
 },
 "nbformat": 4,
 "nbformat_minor": 2
}
