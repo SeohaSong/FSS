{
 "cells": [
  {
   "cell_type": "code",
   "execution_count": 53,
   "metadata": {},
   "outputs": [],
   "source": [
    "import re\n",
    "import os\n",
    "import sys\n",
    "import numpy as np\n",
    "import pandas as pd\n",
    "from scipy import stats\n",
    "\n",
    "from sklearn.ensemble import GradientBoostingClassifier\n",
    "from sklearn.linear_model import LogisticRegression\n",
    "from tools.rnn import RecurrentNeuralNetwork\n",
    "\n",
    "from sklearn.metrics import recall_score, precision_score, f1_score"
   ]
  },
  {
   "cell_type": "code",
   "execution_count": 49,
   "metadata": {},
   "outputs": [],
   "source": [
    "def get_dataset(filepath):\n",
    "    def get_pair(df):\n",
    "        ys = np.array(df['Target'])\n",
    "        df = df.drop('Target', axis=1)\n",
    "        xs = np.array(df)\n",
    "        return xs, ys\n",
    "    tr_df, te_df = pd.read_pickle(filepath)\n",
    "    tr_xs, tr_ys = get_pair(tr_df)\n",
    "    te_xs, te_ys = get_pair(te_df)\n",
    "    return tr_xs, tr_ys, te_xs, te_ys\n",
    "\n",
    "def get_scores_map(model, opt, term):\n",
    "    dir_path = os.path.join('data', '%s', 'time%d') % (opt, term)\n",
    "    sample_n = sum(1 for v in os.listdir(dir_path) if re.compile(r'data\\d{3}').match(v))\n",
    "    scores_map = {'recall': [], 'precision': [], 'f1-score': []}\n",
    "    for i in range(sample_n):\n",
    "        filepath = os.path.join(dir_path, 'data%03d') % (i+1)\n",
    "        tr_xs, tr_y, te_xs, te_y = get_dataset(filepath)\n",
    "        model.fit(tr_xs, tr_y)\n",
    "        preds = model.predict(te_xs)\n",
    "        if all(preds == 0):\n",
    "            scores_map['precision'].append(0)\n",
    "            scores_map['f1-score'].append(0)\n",
    "        else:\n",
    "            scores_map['precision'].append(precision_score(te_y, preds))\n",
    "            scores_map['f1-score'].append(f1_score(te_y, preds))\n",
    "        scores_map['recall'].append(recall_score(te_y, preds))\n",
    "        sys.stdout.write('\\r%s' % filepath)\n",
    "    print()\n",
    "    return scores_map\n",
    "\n",
    "def get_lr():\n",
    "    model = LogisticRegression(\n",
    "        solver='newton-cg',\n",
    "        random_state=0\n",
    "    )\n",
    "    return model\n",
    "\n",
    "def get_gb():\n",
    "    model = GradientBoostingClassifier(\n",
    "        n_iter_no_change=10,\n",
    "        warm_start=True,\n",
    "        random_state=0\n",
    "    )\n",
    "    return model"
   ]
  },
  {
   "cell_type": "code",
   "execution_count": null,
   "metadata": {},
   "outputs": [],
   "source": [
    "print(stats.ttest_rel(result1[:, 1], result2[:, 1]))"
   ]
  },
  {
   "cell_type": "code",
   "execution_count": 50,
   "metadata": {},
   "outputs": [
    {
     "name": "stdout",
     "output_type": "stream",
     "text": [
      "data\\base\\time1\\data050\n",
      "{'recall': '0.9667', 'precision': '0.9090', 'f1-score': '0.9271'}\n",
      "{'recall': '0.1000', 'precision': '0.1299', 'f1-score': '0.0855'}\n",
      "data\\base\\time2\\data050\n",
      "{'recall': '0.9733', 'precision': '1.0000', 'f1-score': '0.9840'}\n",
      "{'recall': '0.0904', 'precision': '0.0000', 'f1-score': '0.0543'}\n",
      "data\\base\\time3\\data050\n",
      "{'recall': '1.0000', 'precision': '0.9767', 'f1-score': '0.9853'}\n",
      "{'recall': '0.0000', 'precision': '0.0943', 'f1-score': '0.0601'}\n",
      "data\\base\\time4\\data050\n",
      "{'recall': '0.8200', 'precision': '0.9333', 'f1-score': '0.8507'}\n",
      "{'recall': '0.2786', 'precision': '0.2108', 'f1-score': '0.2281'}\n",
      "\n",
      "data\\ours\\time1\\data050\n",
      "{'recall': '0.9733', 'precision': '0.9950', 'f1-score': '0.9811'}\n",
      "{'recall': '0.0904', 'precision': '0.0350', 'f1-score': '0.0570'}\n",
      "data\\ours\\time2\\data050\n",
      "{'recall': '0.9733', 'precision': '1.0000', 'f1-score': '0.9840'}\n",
      "{'recall': '0.0904', 'precision': '0.0000', 'f1-score': '0.0543'}\n",
      "data\\ours\\time3\\data050\n",
      "{'recall': '0.9900', 'precision': '0.9933', 'f1-score': '0.9893'}\n",
      "{'recall': '0.0700', 'precision': '0.0467', 'f1-score': '0.0539'}\n",
      "data\\ours\\time4\\data050\n",
      "{'recall': '0.8900', 'precision': '0.9867', 'f1-score': '0.9187'}\n",
      "{'recall': '0.2071', 'precision': '0.0653', 'f1-score': '0.1394'}\n",
      "\n",
      "data\\text\\time1\\data050\n",
      "{'recall': '0.5800', 'precision': '0.6303', 'f1-score': '0.5660'}\n",
      "{'recall': '0.3387', 'precision': '0.3751', 'f1-score': '0.3236'}\n",
      "data\\text\\time2\\data050\n",
      "{'recall': '0.3733', 'precision': '0.4185', 'f1-score': '0.3775'}\n",
      "{'recall': '0.3101', 'precision': '0.3920', 'f1-score': '0.3242'}\n",
      "data\\text\\time3\\data050\n",
      "{'recall': '0.7100', 'precision': '0.7750', 'f1-score': '0.7113'}\n",
      "{'recall': '0.3330', 'precision': '0.3267', 'f1-score': '0.2947'}\n",
      "data\\text\\time4\\data050\n",
      "{'recall': '0.4500', 'precision': '0.1940', 'f1-score': '0.2238'}\n",
      "{'recall': '0.3500', 'precision': '0.2660', 'f1-score': '0.2501'}\n",
      "\n"
     ]
    }
   ],
   "source": [
    "for opt in ['base', 'ours', 'text']:\n",
    "    for term in [1, 2, 3, 4]:\n",
    "        model = get_gb()\n",
    "        scores_map = get_scores_map(model, opt, term)\n",
    "        print({k: \"%0.04f\" % np.mean(scores_map[k]) for k in scores_map})\n",
    "        print({k: \"%0.04f\" % np.std(scores_map[k]) for k in scores_map})\n",
    "    print()\n"
   ]
  },
  {
   "cell_type": "code",
   "execution_count": 52,
   "metadata": {
    "scrolled": false
   },
   "outputs": [
    {
     "name": "stdout",
     "output_type": "stream",
     "text": [
      "data\\base\\time1\\data050\n",
      "{'recall': '0.8600', 'precision': '0.5557', 'f1-score': '0.6526'}\n",
      "{'recall': '0.2010', 'precision': '0.1904', 'f1-score': '0.1583'}\n",
      "data\\base\\time2\\data050\n",
      "{'recall': '0.8667', 'precision': '0.8147', 'f1-score': '0.8197'}\n",
      "{'recall': '0.1764', 'precision': '0.1795', 'f1-score': '0.1361'}\n",
      "data\\base\\time3\\data050\n",
      "{'recall': '0.8800', 'precision': '0.9167', 'f1-score': '0.8800'}\n",
      "{'recall': '0.2135', 'precision': '0.1863', 'f1-score': '0.1822'}\n",
      "data\\base\\time4\\data050\n",
      "{'recall': '1.0000', 'precision': '0.8733', 'f1-score': '0.9227'}\n",
      "{'recall': '0.0000', 'precision': '0.1718', 'f1-score': '0.1061'}\n",
      "\n",
      "data\\ours\\time1\\data050\n",
      "{'recall': '0.8400', 'precision': '0.8205', 'f1-score': '0.8045'}\n",
      "{'recall': '0.1914', 'precision': '0.2026', 'f1-score': '0.1512'}\n",
      "data\\ours\\time2\\data050\n",
      "{'recall': '0.8667', 'precision': '0.9353', 'f1-score': '0.8852'}\n",
      "{'recall': '0.1764', 'precision': '0.1241', 'f1-score': '0.1249'}\n",
      "data\\ours\\time3\\data050\n",
      "{'recall': '0.8700', 'precision': '0.8600', 'f1-score': '0.8353'}\n",
      "{'recall': '0.2193', 'precision': '0.1925', 'f1-score': '0.1624'}\n",
      "data\\ours\\time4\\data050\n",
      "{'recall': '0.8900', 'precision': '0.8567', 'f1-score': '0.8600'}\n",
      "{'recall': '0.2300', 'precision': '0.2357', 'f1-score': '0.2185'}\n",
      "\n",
      "data\\text\\time1\\data050\n",
      "{'recall': '0.6800', 'precision': '0.7172', 'f1-score': '0.6649'}\n",
      "{'recall': '0.2663', 'precision': '0.2852', 'f1-score': '0.2303'}\n",
      "data\\text\\time2\\data050\n",
      "{'recall': '0.6667', 'precision': '0.7900', 'f1-score': '0.6979'}\n",
      "{'recall': '0.3055', 'precision': '0.2952', 'f1-score': '0.2738'}\n",
      "data\\text\\time3\\data050\n",
      "{'recall': '0.7000', 'precision': '0.7233', 'f1-score': '0.6840'}\n",
      "{'recall': '0.3464', 'precision': '0.3343', 'f1-score': '0.3046'}\n",
      "data\\text\\time4\\data050\n",
      "{'recall': '0.5600', 'precision': '0.6650', 'f1-score': '0.5787'}\n",
      "{'recall': '0.3412', 'precision': '0.3831', 'f1-score': '0.3190'}\n",
      "\n"
     ]
    }
   ],
   "source": [
    "for opt in ['base', 'ours', 'text']:\n",
    "    for term in [1, 2, 3, 4]:\n",
    "        model = get_lr()\n",
    "        scores_map = get_scores_map(model, opt, term)\n",
    "        print({k: \"%0.04f\" % np.mean(scores_map[k]) for k in scores_map})\n",
    "        print({k: \"%0.04f\" % np.std(scores_map[k]) for k in scores_map})\n",
    "    print()\n"
   ]
  },
  {
   "cell_type": "code",
   "execution_count": null,
   "metadata": {},
   "outputs": [],
   "source": []
  }
 ],
 "metadata": {
  "kernelspec": {
   "display_name": "Python 3",
   "language": "python",
   "name": "python3"
  },
  "language_info": {
   "codemirror_mode": {
    "name": "ipython",
    "version": 3
   },
   "file_extension": ".py",
   "mimetype": "text/x-python",
   "name": "python",
   "nbconvert_exporter": "python",
   "pygments_lexer": "ipython3",
   "version": "3.6.8"
  }
 },
 "nbformat": 4,
 "nbformat_minor": 2
}
